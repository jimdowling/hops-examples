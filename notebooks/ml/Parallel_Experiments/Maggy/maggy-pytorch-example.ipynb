{
 "cells": [
  {
   "cell_type": "raw",
   "metadata": {},
   "source": [
    "---\n",
    "title: \"Maggy PyTorch HParam Tuning Example\"\n",
    "date: 2021-02-24\n",
    "type: technical_note\n",
    "draft: false\n",
    "---"
   ]
  },
  {
   "cell_type": "code",
   "execution_count": null,
   "metadata": {},
   "outputs": [],
   "source": [
    "# Start spark session\n",
    "print('Startup')"
   ]
  },
  {
   "cell_type": "code",
   "execution_count": null,
   "metadata": {},
   "outputs": [],
   "source": [
    "# Import maggy, define searchspace\n",
    "from maggy import Searchspace\n",
    "\n",
    "sp = Searchspace(l1_size=('Integer', [2,32]), l2_size=('Integer', [2,32]), batch_size=('integer', [2,16]))"
   ]
  },
  {
   "cell_type": "code",
   "execution_count": null,
   "metadata": {},
   "outputs": [],
   "source": [
    "# Hyperparameter tuning. Create oblivious training function.\n",
    "from maggy import experiment\n",
    "\n",
    "def training_function(l1_size, l2_size, batch_size, reporter):\n",
    "    import torch\n",
    "    import torch.nn as nn\n",
    "    import torch.optim as optim\n",
    "    import math\n",
    "        \n",
    "    # define torch model\n",
    "    class NeuralNetwork(nn.Module):\n",
    "        \n",
    "        def __init__(self, l1_size, l2_size):\n",
    "            super().__init__()\n",
    "            self.linear1 = nn.Linear(2,l1_size)\n",
    "            self.linear2 = nn.Linear(l1_size,l2_size)\n",
    "            self.output = nn.Linear(l2_size, 1)\n",
    "            \n",
    "        def forward(self, x):\n",
    "            x = torch.relu(self.linear1(x))\n",
    "            x = torch.relu(self.linear2(x))\n",
    "            return self.output(x)\n",
    "        \n",
    "    # define training parameters\n",
    "    net = NeuralNetwork(l1_size, l2_size)\n",
    "    epochs = 100\n",
    "    learning_rate = 1e-3\n",
    "    optimizer = optim.Adam(net.parameters(), lr=learning_rate)\n",
    "    \n",
    "    # define random training data\n",
    "    x = torch.reshape(torch.rand(1000,2), (-1,2))\n",
    "    y = torch.reshape(x[:,0] * torch.exp(x[:,0]**2 - x[:,1]**2), (-1,1))\n",
    "\n",
    "    dataset = torch.utils.data.TensorDataset(x, y)\n",
    "    train_ds, test_ds = torch.utils.data.random_split(dataset, [800,200])\n",
    "    trainloader = torch.utils.data.DataLoader(train_ds, batch_size=batch_size, shuffle=True)\n",
    "    testloader = torch.utils.data.DataLoader(test_ds, batch_size=200)\n",
    "\n",
    "    for t in range(epochs):\n",
    "        for batch_idx, (sample, target) in enumerate(trainloader):\n",
    "            optimizer.zero_grad()\n",
    "            y_pred = net(sample)\n",
    "            loss = nn.functional.mse_loss(y_pred, target)\n",
    "            loss.backward()\n",
    "            optimizer.step()\n",
    "            # Only necessary if early stopping and live metrics are to be employed, otherwise can be omitted.\n",
    "            reporter.broadcast(metric=loss.item())\n",
    "        if t%25 == 24:\n",
    "            print(\"Iteration {}: MSE Loss: {:.2e}\".format(t, loss.item()))\n",
    "\n",
    "    for idx, (sample, target) in enumerate(testloader):\n",
    "        with torch.no_grad():\n",
    "            y_pred = net(sample)\n",
    "            test_loss = nn.functional.mse_loss(y_pred, target)\n",
    "            \n",
    "    print(\"MSE Loss of the model: {:.2e}\".format(test_loss.item()))\n",
    "\n",
    "    return test_loss.item()"
   ]
  },
  {
   "cell_type": "code",
   "execution_count": null,
   "metadata": {},
   "outputs": [],
   "source": [
    "# Run the search with Maggy. \n",
    "result = experiment.lagom(train_fn=training_function, \n",
    "                           searchspace=sp, \n",
    "                           optimizer='randomsearch', \n",
    "                           direction='min',\n",
    "                           num_trials=2, \n",
    "                           name='fctApproxTest', \n",
    "                           hb_interval=1, \n",
    "                           es_interval=1,\n",
    "                           es_min=5\n",
    "                          )"
   ]
  }
 ],
 "metadata": {
  "kernelspec": {
   "display_name": "Python 3",
   "language": "python",
   "name": "python3"
  },
  "language_info": {
   "codemirror_mode": {
    "name": "ipython",
    "version": 3
   },
   "file_extension": ".py",
   "mimetype": "text/x-python",
   "name": "python",
   "nbconvert_exporter": "python",
   "pygments_lexer": "ipython3",
   "version": "3.6.9"
  }
 },
 "nbformat": 4,
 "nbformat_minor": 2
}
