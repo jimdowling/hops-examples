{
 "cells": [
  {
   "cell_type": "raw",
   "metadata": {},
   "source": [
    "---\n",
    "title: \"Petastorm Training Data Create\"\n",
    "date: 2021-02-24\n",
    "type: technical_note\n",
    "draft: false\n",
    "---"
   ]
  },
  {
   "cell_type": "markdown",
   "metadata": {},
   "source": [
    "# Create MNIST Petastorm Dataset\n",
    "\n",
    "In this notebook we will go through how you can create a Petastorm dataset with the MNIST images of digits, and also how you can save it as a documented and reusable training dataset in the Hopsworks Feature Store. The petastorm dataset can later on be used to train models using either Tensorflow, PyTorch or SparkML"
   ]
  },
  {
   "cell_type": "code",
   "execution_count": 1,
   "metadata": {},
   "outputs": [
    {
     "name": "stdout",
     "output_type": "stream",
     "text": [
      "Starting Spark application\n"
     ]
    },
    {
     "data": {
      "text/html": [
       "<table>\n",
       "<tr><th>ID</th><th>YARN Application ID</th><th>Kind</th><th>State</th><th>Spark UI</th><th>Driver log</th><th>Current session?</th></tr><tr><td>1</td><td>application_1551196216588_0003</td><td>pyspark</td><td>idle</td><td><a target=\"_blank\" href=\"http://hopsworks0.logicalclocks.com:8088/proxy/application_1551196216588_0003/\">Link</a></td><td><a target=\"_blank\" href=\"http://hopsworks0.logicalclocks.com:8042/node/containerlogs/container_e01_1551196216588_0003_01_000001/demo_featurestore_admin000__meb10000\">Link</a></td><td>✔</td></tr></table>"
      ],
      "text/plain": [
       "<IPython.core.display.HTML object>"
      ]
     },
     "metadata": {},
     "output_type": "display_data"
    },
    {
     "name": "stdout",
     "output_type": "stream",
     "text": [
      "SparkSession available as 'spark'.\n"
     ]
    }
   ],
   "source": [
    "from hops import hdfs, featurestore\n",
    "import numpy as np\n",
    "import pydoop\n",
    "import gzip\n",
    "from tempfile import TemporaryFile\n",
    "\n",
    "# IMPORTANT: must import  tensorflow before petastorm.tf_utils due to a bug in petastorm\n",
    "import tensorflow as tf\n",
    "from petastorm.unischema import dict_to_spark_row, Unischema, UnischemaField\n",
    "from pyspark.sql.types import StructType, StructField, IntegerType\n",
    "from petastorm.codecs import ScalarCodec, CompressedImageCodec, NdarrayCodec"
   ]
  },
  {
   "cell_type": "markdown",
   "metadata": {},
   "source": [
    "### Step 1: Create a Hopsworks Dataset called \"mnist\" and Upload the MNIST images to Hopsworks\n",
    "\n",
    "The MNIST dataset can be downloaded here: http://yann.lecun.com/exdb/mnist/, it consists of four files: \n",
    "\n",
    "- train-images-idx3-ubyte.gz:  training set images (9912422 bytes) \n",
    "- train-labels-idx1-ubyte.gz:  training set labels (28881 bytes) \n",
    "- t10k-images-idx3-ubyte.gz:   test set images (1648877 bytes) \n",
    "- t10k-labels-idx1-ubyte.gz:   test set labels (4542 bytes)\n",
    "\n",
    "The data is stored in the idx format. The IDX file format is a simple format for vectors and multidimensional matrices of various numerical types.\n",
    "\n",
    "The basic format according to http://yann.lecun.com/exdb/mnist/ is:\n",
    "```\n",
    "magic number\n",
    "size in dimension 1\n",
    "size in dimension 2\n",
    "size in dimension 3\n",
    "....\n",
    "size in dimension N\n",
    "data\n",
    "```\n",
    "The magic number is four bytes long. The first 2 bytes are always 0.\n",
    "\n",
    "The third byte codes the type of the data:\n",
    "```\n",
    "0x08: unsigned byte\n",
    "0x09: signed byte\n",
    "0x0B: short (2 bytes)\n",
    "0x0C: int (4 bytes)\n",
    "0x0D: float (4 bytes)\n",
    "0x0E: double (8 bytes)\n",
    "```\n",
    "The fouth byte codes the number of dimensions of the vector/matrix: 1 for vectors, 2 for matrices....\n",
    "\n",
    "The sizes in each dimension are 4-byte integers (big endian, like in most non-Intel processors).\n",
    "\n",
    "The data is stored like in a C array, i.e. the index in the last dimension changes the fastest.\n",
    "\n",
    "You could also have uploaded the .png images directly and read them using Spark: https://databricks.com/blog/2018/12/10/introducing-built-in-image-data-source-in-apache-spark-2-4.html \n",
    "\n",
    "But to save us the effort of uploading 70000 images and unzipping them, we will use Yann LeCunns IDX files. \n",
    "\n",
    "To upload the files, (1) download them from here: http://yann.lecun.com/exdb/mnist/; (2) Go to the dataset browser in Hopsworks in your project and click the button 'Create new dataset' and name the new dataset \"mnist\"; (3) Click on the dataset and upload the files.  \n",
    "\n",
    "![Petastorm 3](./../images/petastorm3.png \"Petastorm 3\")\n",
    "\n",
    "![Petastorm 4](./../images/petastorm4.png \"Petastorm 4\")\n"
   ]
  },
  {
   "cell_type": "code",
   "execution_count": 2,
   "metadata": {},
   "outputs": [
    {
     "name": "stdout",
     "output_type": "stream",
     "text": [
      "hdfs://10.0.2.15:8020/Projects/demo_featurestore_admin000/mnist/README.md\n",
      "hdfs://10.0.2.15:8020/Projects/demo_featurestore_admin000/mnist/t10k-images-idx3-ubyte.gz\n",
      "hdfs://10.0.2.15:8020/Projects/demo_featurestore_admin000/mnist/t10k-labels-idx1-ubyte.gz\n",
      "hdfs://10.0.2.15:8020/Projects/demo_featurestore_admin000/mnist/train-images-idx3-ubyte.gz\n",
      "hdfs://10.0.2.15:8020/Projects/demo_featurestore_admin000/mnist/train-labels-idx1-ubyte.gz"
     ]
    }
   ],
   "source": [
    "files = hdfs.ls(hdfs.project_path() + \"mnist\")\n",
    "for i in range(len(files)):\n",
    "    print(files[i])"
   ]
  },
  {
   "cell_type": "markdown",
   "metadata": {},
   "source": [
    "### Step 2: Parse the IDX files into Numpy Arrays"
   ]
  },
  {
   "cell_type": "code",
   "execution_count": 3,
   "metadata": {},
   "outputs": [],
   "source": [
    "def read_mnist(train_num_examples, test_num_examples):\n",
    "    \"\"\"\n",
    "    Parses MNIST dataset in the IDX format into numpy multi-dimensional arrays\n",
    "    \n",
    "    Args:\n",
    "        :train_num_examples: number of training examples to parse\n",
    "        :test_num_examples: number of test examples to parse\n",
    "    \n",
    "    Returns: train_images, train_labels, test_images, test_labels\n",
    "    \"\"\"\n",
    "    image_size = 28\n",
    "    train_num_examples = train_num_examples\n",
    "    test_num_examples = test_num_examples\n",
    "    train_images_path = hdfs.project_path() + \"mnist/train-images-idx3-ubyte.gz\"\n",
    "    train_labels_path = hdfs.project_path() + \"mnist/train-labels-idx1-ubyte.gz\"\n",
    "    test_images_path = hdfs.project_path() + \"mnist/t10k-images-idx3-ubyte.gz\"\n",
    "    test_labels_path = hdfs.project_path() + \"mnist/t10k-labels-idx1-ubyte.gz\"\n",
    "    image_padding = 16\n",
    "    label_padding = 8\n",
    "    def parse_zip(path, padding, bytes):\n",
    "        f_zip = pydoop.hdfs.open(path, \"rb\")\n",
    "        f_unzip = gzip.GzipFile(mode='rb', fileobj=f_zip)\n",
    "        f_unzip.read(padding) # read metadata string\n",
    "        return f_unzip.read(bytes)\n",
    "    train_images_data = np.frombuffer(parse_zip(train_images_path, image_padding, image_size * image_size * train_num_examples), dtype=np.uint8)\n",
    "    train_images = train_images_data.reshape(train_num_examples, image_size, image_size, 1)\n",
    "    train_labels_data = np.frombuffer(parse_zip(train_labels_path, label_padding, train_num_examples), dtype=np.uint8).astype(np.int64)\n",
    "    train_labels = train_labels_data.reshape(train_num_examples, 1)\n",
    "    test_images_data = np.frombuffer(parse_zip(test_images_path, image_padding, image_size * image_size * test_num_examples), dtype=np.uint8)\n",
    "    test_images = test_images_data.reshape(test_num_examples, image_size, image_size, 1)\n",
    "    test_labels_data = np.frombuffer(parse_zip(test_labels_path, label_padding, test_num_examples), dtype=np.uint8).astype(np.int64)\n",
    "    test_labels = test_labels_data.reshape(test_num_examples, 1)\n",
    "    return train_images, train_labels, test_images, test_labels"
   ]
  },
  {
   "cell_type": "code",
   "execution_count": 4,
   "metadata": {},
   "outputs": [],
   "source": [
    "train_images, train_labels, test_images, test_labels = read_mnist(60000, 10000)"
   ]
  },
  {
   "cell_type": "markdown",
   "metadata": {},
   "source": [
    "### Step 3: Quick Data Validation\n",
    "\n",
    "To validate that we parsed the data correctly we can try to visualize a bunch of images and compare the imaegs to their labels. Plotting in a distributed computing setting is a little bit tricky, it is explained in more details here: https://hopsworks.readthedocs.io/en/0.9/user_guide/hopsworks/jupyter.html#plotting-with-pyspark-kernel.\n",
    "\n",
    "TLDR; We can save a few images to HDFS and read them in the %%local environment to plot them"
   ]
  },
  {
   "cell_type": "markdown",
   "metadata": {},
   "source": [
    "##### Save a handful of images/labels to HDFS"
   ]
  },
  {
   "cell_type": "code",
   "execution_count": 4,
   "metadata": {},
   "outputs": [],
   "source": [
    "from hops import numpy_helper as hops_numpy\n",
    "hops_numpy.save(\"mnist/train_img_val.npy\", train_images[0:2])\n",
    "hops_numpy.save(\"mnist/train_lbl_val.npy\", train_labels[0:2])\n",
    "hops_numpy.save(\"mnist/test_img_val.npy\", test_images[0:2])\n",
    "hops_numpy.save(\"mnist/test_lbl_val.npy\", test_labels[0:2])"
   ]
  },
  {
   "cell_type": "markdown",
   "metadata": {},
   "source": [
    "##### Read sample images from HDFS in %%local and plot"
   ]
  },
  {
   "cell_type": "markdown",
   "metadata": {},
   "source": [
    "###### Utility functions for plotting"
   ]
  },
  {
   "cell_type": "code",
   "execution_count": 2,
   "metadata": {},
   "outputs": [],
   "source": [
    "%%local\n",
    "import matplotlib.pyplot as plt\n",
    "from hops import hdfs\n",
    "import numpy as np\n",
    "from tempfile import TemporaryFile\n",
    "from hops import numpy_helper as hops_numpy\n",
    "\n",
    "def plot_train_example(example_num):\n",
    "    \"\"\"\n",
    "    Utility function that plots a training image together with its label \n",
    "    \n",
    "    Args:\n",
    "         :example_num: the id of the example to plot\n",
    "    \n",
    "    Returns: None\n",
    "    \"\"\"\n",
    "    image = np.asarray(train_images_val[example_num]).squeeze()\n",
    "    plt.imshow(image)\n",
    "    print(\"label:\" + str(train_lbls_val[example_num][0]))\n",
    "    \n",
    "def plot_test_example(example_num):\n",
    "    \"\"\"\n",
    "    Utility function that plots a test image together with its label\n",
    "\n",
    "    Args:\n",
    "         :example_num: the id of the example to plot\n",
    "    \n",
    "    Returns: None\n",
    "    \"\"\"\n",
    "    image = np.asarray(test_images_val[example_num]).squeeze()\n",
    "    plt.imshow(image)\n",
    "    print(\"label:\" + str(test_lbls_val[example_num][0]))"
   ]
  },
  {
   "cell_type": "markdown",
   "metadata": {},
   "source": [
    "###### Read images in %%local"
   ]
  },
  {
   "cell_type": "code",
   "execution_count": 7,
   "metadata": {},
   "outputs": [],
   "source": [
    "%%local\n",
    "train_images_val = hops_numpy.load(\"mnist/train_img_val.npy\")\n",
    "train_lbls_val = hops_numpy.load(\"mnist/train_lbl_val.npy\")\n",
    "test_images_val = hops_numpy.load(\"mnist/test_img_val.npy\")\n",
    "test_lbls_val = hops_numpy.load(\"mnist/test_lbl_val.npy\")"
   ]
  },
  {
   "cell_type": "markdown",
   "metadata": {},
   "source": [
    "###### Plot using matplotlib"
   ]
  },
  {
   "cell_type": "code",
   "execution_count": 8,
   "metadata": {},
   "outputs": [
    {
     "name": "stdout",
     "output_type": "stream",
     "text": [
      "label:5\n"
     ]
    },
    {
     "data": {
      "image/png": "[encoded data removed]",
      "text/plain": [
       "<Figure size 432x288 with 1 Axes>"
      ]
     },
     "metadata": {
      "needs_background": "light"
     },
     "output_type": "display_data"
    }
   ],
   "source": [
    "%%local\n",
    "%matplotlib inline\n",
    "plot_train_example(0)"
   ]
  },
  {
   "cell_type": "code",
   "execution_count": 9,
   "metadata": {},
   "outputs": [
    {
     "name": "stdout",
     "output_type": "stream",
     "text": [
      "label:0\n"
     ]
    },
    {
     "data": {
      "image/png": "[encoded data removed]",
      "text/plain": [
       "<Figure size 432x288 with 1 Axes>"
      ]
     },
     "metadata": {
      "needs_background": "light"
     },
     "output_type": "display_data"
    }
   ],
   "source": [
    "%%local\n",
    "%matplotlib inline\n",
    "plot_train_example(1)"
   ]
  },
  {
   "cell_type": "code",
   "execution_count": 10,
   "metadata": {},
   "outputs": [
    {
     "name": "stdout",
     "output_type": "stream",
     "text": [
      "label:7\n"
     ]
    },
    {
     "data": {
      "image/png": "[encoded data removed]",
      "text/plain": [
       "<Figure size 432x288 with 1 Axes>"
      ]
     },
     "metadata": {
      "needs_background": "light"
     },
     "output_type": "display_data"
    }
   ],
   "source": [
    "%%local\n",
    "%matplotlib inline\n",
    "plot_test_example(0)"
   ]
  },
  {
   "cell_type": "code",
   "execution_count": 11,
   "metadata": {},
   "outputs": [
    {
     "name": "stdout",
     "output_type": "stream",
     "text": [
      "label:2\n"
     ]
    },
    {
     "data": {
      "image/png": "[encoded data removed]",
      "text/plain": [
       "<Figure size 432x288 with 1 Axes>"
      ]
     },
     "metadata": {
      "needs_background": "light"
     },
     "output_type": "display_data"
    }
   ],
   "source": [
    "%%local\n",
    "%matplotlib inline\n",
    "plot_test_example(1)"
   ]
  },
  {
   "cell_type": "markdown",
   "metadata": {},
   "source": [
    "### Step 4: Save  the Numpy Dataset as a Petastorm Dataset\n",
    "\n",
    "We have now parsed the MNIST database of handwritten images into numpy arrays `train_images, train_labels, test_images, test_labels`. We can store this to HDFS as a Petastorm dataset by (1) specifying the petastorm schema; (2) convert the numpy data to a spark dataframe; (3) Save the data to petastorm training dataset in the featurestore using  `featurestore.create_training_dataset()` and set `data_format='petastorm'`."
   ]
  },
  {
   "cell_type": "markdown",
   "metadata": {},
   "source": [
    "#### Specify Petastorm Schema\n",
    "\n",
    "Petastorm datasets are designed to be easy to read into deep learning frameworks such as Tensorflow and Pytorch. To enable this we need to specify the schema when writing the data to HDFS."
   ]
  },
  {
   "cell_type": "code",
   "execution_count": 12,
   "metadata": {},
   "outputs": [],
   "source": [
    "MnistSchema = Unischema('MnistSchema', [\n",
    "    UnischemaField('image', np.uint8, (28, 28,1), NdarrayCodec(), False),\n",
    "    UnischemaField('digit', np.int_, (), ScalarCodec(IntegerType()), False)\n",
    "])"
   ]
  },
  {
   "cell_type": "markdown",
   "metadata": {},
   "source": [
    "#### Create a Spark Dataframe with the data in the numpy arrays\n",
    "\n",
    "Petastorm relies on Spark to write to HDFS so we have to convert the numpy arrays into a spark dataframe that conforms to the Petastorm schema."
   ]
  },
  {
   "cell_type": "code",
   "execution_count": 13,
   "metadata": {},
   "outputs": [],
   "source": [
    "TRAIN_OUTPUT_PATH = hdfs.project_path() + \"mnist/train_petastorm\"\n",
    "TEST_OUTPUT_PATH = hdfs.project_path() + \"mnist/test_petastorm\" \n",
    "mnist_data = {\n",
    "            'train': {\"images\": train_images, \"labels\": train_labels, \"output_path\": TRAIN_OUTPUT_PATH},\n",
    "            'test': {\"images\": test_images, \"labels\": test_labels, \"output_path\": TEST_OUTPUT_PATH}\n",
    "        }"
   ]
  },
  {
   "cell_type": "markdown",
   "metadata": {},
   "source": [
    "First create an RDD of dict-rows with the numpy arrays and then convert the dict-rows into Spark Dataframe Rows using the petastorm utility function `dict_to_spark_row`. "
   ]
  },
  {
   "cell_type": "code",
   "execution_count": 14,
   "metadata": {},
   "outputs": [],
   "source": [
    "def create_petastorm_dict(i, test=False):\n",
    "    \"\"\"\n",
    "    Returns a train or test example from mnist_data variable as a dict with the Petastorm schema\n",
    "    \n",
    "    Args:\n",
    "        :i: the index of the example\n",
    "        :test: a boolean flag whether to get a test example, otherwise gets a training example\n",
    "    \"\"\"\n",
    "    if test:\n",
    "        return {\n",
    "            MnistSchema.digit.name: mnist_data[\"test\"][\"labels\"][i],\n",
    "            MnistSchema.image.name: mnist_data[\"test\"][\"images\"][i]\n",
    "        }\n",
    "    return {\n",
    "            MnistSchema.digit.name: mnist_data[\"train\"][\"labels\"][i],\n",
    "            MnistSchema.image.name: mnist_data[\"train\"][\"images\"][i]\n",
    "        } "
   ]
  },
  {
   "cell_type": "code",
   "execution_count": 15,
   "metadata": {},
   "outputs": [],
   "source": [
    "dataset_train_rdd = sc.parallelize(list(range(len(mnist_data[\"train\"][\"images\"]))))\\\n",
    "        .map(lambda i: create_petastorm_dict(i))\\\n",
    "        .map(lambda x: dict_to_spark_row(MnistSchema, x))"
   ]
  },
  {
   "cell_type": "code",
   "execution_count": 16,
   "metadata": {},
   "outputs": [],
   "source": [
    "dataset_test_rdd = sc.parallelize(list(range(len(mnist_data[\"test\"][\"images\"]))))\\\n",
    "        .map(lambda i: create_petastorm_dict(i, test=True))\\\n",
    "        .map(lambda x: dict_to_spark_row(MnistSchema, x))"
   ]
  },
  {
   "cell_type": "markdown",
   "metadata": {},
   "source": [
    "Then convert the RDDs to Spark Dataframes using `MnistSchema.as_spark_schema()`"
   ]
  },
  {
   "cell_type": "code",
   "execution_count": 17,
   "metadata": {},
   "outputs": [],
   "source": [
    "df_train = spark.createDataFrame(dataset_train_rdd, MnistSchema.as_spark_schema())"
   ]
  },
  {
   "cell_type": "code",
   "execution_count": 18,
   "metadata": {},
   "outputs": [],
   "source": [
    "df_test = spark.createDataFrame(dataset_test_rdd, MnistSchema.as_spark_schema())"
   ]
  },
  {
   "cell_type": "markdown",
   "metadata": {},
   "source": [
    "**Note** Using dicts/rdds and then spark.createDataFrame() is just one approach to create a spark dataframe that conforms to the Petastorm schema. If you don't have the data in numpy arrays but rather saved on disk you might use another approach, the important thing is that you define a petastorm schema and that your dataframe's spark schema is equal to `petastorm_schema.as_spark_schema()`."
   ]
  },
  {
   "cell_type": "markdown",
   "metadata": {},
   "source": [
    "#### Save the Spark Dataframes as Training Dataset in the Petastorm Format in the Hopsworks Feature Store"
   ]
  },
  {
   "cell_type": "markdown",
   "metadata": {},
   "source": [
    "All parameters available for the petastorm method `materialize_dataset` listed here: https://petastorm.readthedocs.io/en/latest/api.html can be provided as arguments in a dict to `featurestore.create_training_dataset(petastorm_args=dict)`. The only required argument is \"schema\"."
   ]
  },
  {
   "cell_type": "code",
   "execution_count": 23,
   "metadata": {},
   "outputs": [],
   "source": [
    "petastorm_args = {\n",
    "    \"schema\": MnistSchema\n",
    "}"
   ]
  },
  {
   "cell_type": "markdown",
   "metadata": {},
   "source": [
    "Save Dataset with Training Data:"
   ]
  },
  {
   "cell_type": "code",
   "execution_count": 20,
   "metadata": {},
   "outputs": [
    {
     "name": "stdout",
     "output_type": "stream",
     "text": [
      "computing descriptive statistics for : MNIST_train_petastorm"
     ]
    }
   ],
   "source": [
    "featurestore.create_training_dataset(df_train, \"MNIST_train_petastorm\", data_format=\"petastorm\", \n",
    "                                     petastorm_args=petastorm_args,\n",
    "                                     description=\"MNIST Digit Database Training Dataset of 60000 images stored in the Petastorm Format\",\n",
    "                                     #this type of statistics do not make sense on image data\n",
    "                                     feature_correlation=False, feature_histograms=False, cluster_analysis=False)"
   ]
  },
  {
   "cell_type": "code",
   "execution_count": 24,
   "metadata": {},
   "outputs": [],
   "source": [
    "petastorm_args = {\n",
    "    \"schema\": MnistSchema\n",
    "}"
   ]
  },
  {
   "cell_type": "markdown",
   "metadata": {},
   "source": [
    "Save Dataset with Test Data:"
   ]
  },
  {
   "cell_type": "code",
   "execution_count": 25,
   "metadata": {},
   "outputs": [
    {
     "name": "stdout",
     "output_type": "stream",
     "text": [
      "computing descriptive statistics for : MNIST_test_petastorm"
     ]
    }
   ],
   "source": [
    "featurestore.create_training_dataset(df_test, \"MNIST_test_petastorm\", data_format=\"petastorm\", \n",
    "                                     petastorm_args=petastorm_args,\n",
    "                                     description=\"MNIST Digit Database Test Dataset of 10000 images stored in the Petastorm Format\",\n",
    "                                     #this type of statistics do not make sense on image data\n",
    "                                     feature_correlation=False, feature_histograms=False, cluster_analysis=False)"
   ]
  },
  {
   "cell_type": "markdown",
   "metadata": {},
   "source": [
    "### Step 5: Use the Training Dataset\n",
    "\n",
    "Once the datasets are saved in the feature store you can find them in the Feature Registry inside your project and easily reuse it later. By saving the dataset as a petastorm dataset you can use the same data in several different deep learning frameworks, such as PyTorch and Tensorflow. We have two example notebooks that demonstrate this here:\n",
    "\n",
    "- [Tensorflow Example](PetastormMNIST_Tensorflow.ipynb)\n",
    "\n",
    "- [PyTorch Example](PetastormMNIST_PyTorch.ipynb)\n",
    "\n",
    "![Petastorm 5](./../images/petastorm5.png \"Petastorm 5\")"
   ]
  },
  {
   "cell_type": "code",
   "execution_count": null,
   "metadata": {},
   "outputs": [],
   "source": []
  }
 ],
 "metadata": {
  "kernelspec": {
   "display_name": "PySpark",
   "language": "",
   "name": "pysparkkernel"
  },
  "language_info": {
   "codemirror_mode": {
    "name": "python",
    "version": 2
   },
   "mimetype": "text/x-python",
   "name": "pyspark",
   "pygments_lexer": "ipython3"
  }
 },
 "nbformat": 4,
 "nbformat_minor": 2
}
