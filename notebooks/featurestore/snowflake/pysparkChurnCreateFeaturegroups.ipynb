{
 "cells": [
  {
   "cell_type": "raw",
   "metadata": {},
   "source": [
    "---\n",
    "title: \"Snowflake Ingestion (2) Create Feature groups in PySpark\"\n",
    "date: 2021-02-24\n",
    "type: technical_note\n",
    "draft: false\n",
    "---"
   ]
  },
  {
   "cell_type": "markdown",
   "metadata": {},
   "source": [
    "## 1. Churn Feature Engineering Pyspark"
   ]
  },
  {
   "cell_type": "code",
   "execution_count": 97,
   "metadata": {},
   "outputs": [],
   "source": [
    "from pyspark.sql.types import DoubleType\n",
    "from pyspark.ml import Pipeline\n",
    "from pyspark.ml.feature import OneHotEncoderEstimator, StringIndexer, VectorAssembler, StandardScaler\n",
    "from pyspark.ml.linalg import Vectors"
   ]
  },
  {
   "cell_type": "code",
   "execution_count": null,
   "metadata": {},
   "outputs": [],
   "source": [
    "import hsfs\n",
    "connection = hsfs.connection()\n",
    "# get a reference to the feature store, you can access also shared feature stores by providing the feature store name\n",
    "fs = connection.get_feature_store()\n",
    "connector = fs.get_storage_connector(\"snowflake_spark_connector\", \"JDBC\")"
   ]
  },
  {
   "cell_type": "markdown",
   "metadata": {},
   "source": [
    "### 1.1 Data"
   ]
  },
  {
   "cell_type": "code",
   "execution_count": 99,
   "metadata": {},
   "outputs": [],
   "source": [
    "df = (spark.read.\n",
    "format(\"net.snowflake.spark.snowflake\").\n",
    "option(\"sfURL\", \"https://ra96958.eu-central-1.snowflakecomputing.com\").\n",
    "option(\"sfUser\", \"HOPSWORKS\").\n",
    "option(\"sfPassword\", connector.arguments).\n",
    "option(\"sfDatabase\", \"ML_WORKSHOP\").    \n",
    "option(\"sfSchema\", \"PUBLIC\").\n",
    "option(\"sfWarehouse\", \"HOPSWORKS_WH\").\n",
    "option(\"sfRole\", \"HOPSWORKS_ROLE\").\n",
    "option(\"dbtable\", \"CUSTOMER_CHURN\").\n",
    "load())"
   ]
  },
  {
   "cell_type": "code",
   "execution_count": 100,
   "metadata": {},
   "outputs": [],
   "source": [
    "df = df.toDF('customer_id', 'gender', 'senior_citizen', 'partner', 'dependents',\n",
    "       'tenure', 'phone_service', 'multiple_lines', 'internet_service',\n",
    "       'online_security', 'online_backup', 'device_protection', 'tech_support',\n",
    "       'streaming_tv', 'streaming_movies', 'contract', 'paperless_billing',\n",
    "       'payment_method', 'monthly_charges', 'total_charges', 'churn')\n",
    "\n",
    "df = df.withColumn(\"tenure\",df.tenure.cast(DoubleType()))"
   ]
  },
  {
   "cell_type": "markdown",
   "metadata": {},
   "source": [
    "### 1.2 Data Manipulation and Processing"
   ]
  },
  {
   "cell_type": "code",
   "execution_count": 101,
   "metadata": {},
   "outputs": [],
   "source": [
    "categoricalColumns = ['gender','senior_citizen','partner','dependents','phone_service','multiple_lines','internet_service', 'online_security', 'online_backup', 'device_protection', 'tech_support',\n",
    "                      'streaming_tv', 'streaming_movies', 'contract', 'paperless_billing','payment_method']\n",
    "\n",
    "numericalColumns = ['tenure', 'monthly_charges', 'total_charges']\n",
    "df = df.fillna(0, subset=numericalColumns )\n",
    "\n",
    "stages = [] # stages in our Pipeline\n",
    "out_cat_col = []\n",
    "for categoricalCol in categoricalColumns:\n",
    "    # Category Indexing with StringIndexer\n",
    "    stringIndexer = StringIndexer(inputCol=categoricalCol, outputCol=categoricalCol + \"_Index\")\n",
    "    stages += [stringIndexer]\n",
    "    out_cat_col += [categoricalCol + \"_Index\"]\n",
    "\n",
    "assembler = VectorAssembler(\n",
    "    inputCols=numericalColumns,\n",
    "    outputCol=\"numFeatures\")\n",
    "stages += [assembler]\n",
    "\n",
    "# scaling numericalColumns\n",
    "standardScaler = StandardScaler(inputCol=\"numFeatures\", outputCol=\"scaledFeatures\",withStd=True, withMean=False)\n",
    "stages += [standardScaler]\n",
    "    \n",
    "# Convert label into label indices using the StringIndexer\n",
    "label_stringIdx = StringIndexer(inputCol=\"churn\", outputCol=\"label\")\n",
    "stages += [label_stringIdx]"
   ]
  },
  {
   "cell_type": "code",
   "execution_count": 102,
   "metadata": {},
   "outputs": [],
   "source": [
    "# Create a Pipeline.\n",
    "pipeline = Pipeline(stages=stages)\n",
    "# Run the feature transformations.\n",
    "#  - fit() computes feature statistics as needed.\n",
    "#  - transform() actually transforms the features.\n",
    "pipelineModel = pipeline.fit(df)\n",
    "dataset = pipelineModel.transform(df)"
   ]
  },
  {
   "cell_type": "code",
   "execution_count": 104,
   "metadata": {},
   "outputs": [],
   "source": [
    "def extract(row):\n",
    "    col_list = []\n",
    "    col_list.append(\"label\")\n",
    "    for x in out_cat_col:\n",
    "        col_list.append(row[x])\n",
    "    return tuple(col_list) + tuple(row[\"scaledFeatures\"].toArray().tolist())\n",
    "\n",
    "telcom_churn_features = dataset.rdd.map(extract).toDF([\"label\" ]+ categoricalColumns + numericalColumns)"
   ]
  },
  {
   "cell_type": "markdown",
   "metadata": {},
   "source": [
    "### 1.4 Create FeatureGroups"
   ]
  },
  {
   "cell_type": "code",
   "execution_count": null,
   "metadata": {},
   "outputs": [],
   "source": [
    "val telcoFg = (fs.createFeatureGroup()\n",
    "                 .name(\"telco_customer_features\")\n",
    "                 .version(1)\n",
    "                 .description(\"Telecom customer features\")\n",
    "                 .onlineEnabled(true)\n",
    "                 .timeTravelFormat(TimeTravelFormat.HUDI)\n",
    "                 .primaryKeys(Seq(\"customer_id\"))\n",
    "                 .statisticsEnabled(true)\n",
    "                 .build())\n",
    "\n",
    "telcoFg.save(telcom_churn_features)"
   ]
  }
 ],
 "metadata": {
  "kernelspec": {
   "display_name": "Python 3",
   "language": "python",
   "name": "python3"
  },
  "language_info": {
   "codemirror_mode": {
    "name": "ipython",
    "version": 3
   },
   "file_extension": ".py",
   "mimetype": "text/x-python",
   "name": "python",
   "nbconvert_exporter": "python",
   "pygments_lexer": "ipython3",
   "version": "3.6.9"
  }
 },
 "nbformat": 4,
 "nbformat_minor": 4
}
