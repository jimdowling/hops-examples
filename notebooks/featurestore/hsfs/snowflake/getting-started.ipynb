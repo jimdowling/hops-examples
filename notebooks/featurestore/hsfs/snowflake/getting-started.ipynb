{
 "metadata": {
  "language_info": {
   "codemirror_mode": {
    "name": "ipython",
    "version": 3
   },
   "file_extension": ".py",
   "mimetype": "text/x-python",
   "name": "python",
   "nbconvert_exporter": "python",
   "pygments_lexer": "ipython3",
   "version": "3.8.3-final"
  },
  "orig_nbformat": 2,
  "kernelspec": {
   "name": "python3",
   "display_name": "Python 3",
   "language": "python"
  }
 },
 "nbformat": 4,
 "nbformat_minor": 2,
 "cells": [
  {
   "source": [
    "# Get started with Snowflake and the Hopsworks Feature Store\n",
    "This tutorial notebook will help you to get started working with the Hopsworks feature store and Snowflake.\n",
    "\n",
    "- We assume that you already have snowflake account. If not please follow the [tutorial](https://www.snowflake.com/webinar/virtual-hands-on-labs/virtual-hands-on-lab-2020-03-18/) to setup your Snowflake account and load telcom churn dataset   \n",
    "\n"
   ],
   "cell_type": "markdown",
   "metadata": {}
  },
  {
   "source": [
    "## Create Snowflake connector in Hopsworks <a name=\"access_snowflake\"></a>\n",
    "\n",
    "Create a snowflake storage connector in a featurestore.\n",
    "\n",
    "```\n",
    "POST /hopsworks-api/api/project/<project id>/featurestores/<feature storre id>/storageconnectors HTTP/1.1\n",
    "{\n",
    " \"name\": \"sfconnector\",\n",
    " \"description\": \"snowflake connector\",\n",
    " \"type\": \"featurestoreSnowflakeConnectorDTO\",\n",
    " \"storageConnectorType\": \"SNOWFLAKE\",\n",
    " \"featurestoreId\": <feature storre id>,\n",
    " \"url\": \"https://12345.west-europe.azure.snowflakecomputing.com\",\n",
    " \"user\": \"HOPSWORKS\",\n",
    " \"password\": \"snowflake password\",\n",
    " \"database\": \"ML_WORKSHOP\",\n",
    " \"schema\": \"PUBLIC\",\n",
    " \"warehouse\": \"COMPUTE_WH\",\n",
    " \"role\": \"HOPSWORKS_ROLE\"\n",
    "}\n",
    "```\n",
    "\n",
    "The following options are required to create a snowflake connector:\n",
    "- url: the hostname for your account in the following format: <account_name>.snowflakecomputing.com.\n",
    "- user: login name for the Snowflake user.\n",
    "- password: password of the Snowflake user. (required if token is not set)\n",
    "- token: OAuth token that can be used to access snowflake. (required if password is not set)\n",
    "- database: the database to use for the session after connecting.\n",
    "- schema: the schema to use for the session after connecting.\n",
    "\n",
    "Remaining options are not required:\n",
    "- warehouse: the default virtual warehouse to use for the session after connecting.\n",
    "- role: the default security role to use for the session after connecting.\n",
    "- table: the table to which data is written to or read from. \n",
    "\n",
    "Additional snowflake options can be added as a list of key-value pair in sfOptions:\n",
    "```\n",
    "{\n",
    "    ...\n",
    "    \"table\": \"CUSTOMER_CHURN\",\n",
    "    \"sfOptions\": [{name:\"sfTimezone\", value:\"spark\"},\n",
    "                  {name: \"sfCompress\", value: \"true\"},\n",
    "                  {name: \"s3MaxFileSize\", value: \"100MB\"},\n",
    "                  ...\n",
    "                 ]\n",
    "}\n",
    "```"
   ],
   "cell_type": "markdown",
   "metadata": {}
  },
  {
   "source": [
    "## Using the connector\n",
    "After creating the connector you can use it with your python, scala or pyspark programs.\n"
   ],
   "cell_type": "markdown",
   "metadata": {}
  },
  {
   "source": [
    "## Python\n",
    "\n",
    "Additional options are not supported in python. If you have additional options in your connector you need to add them to the \"sfConnectorOptions\" with \n",
    "the correct key name.\n"
   ],
   "cell_type": "markdown",
   "metadata": {}
  },
  {
   "cell_type": "code",
   "execution_count": null,
   "metadata": {},
   "outputs": [],
   "source": [
    "import hsfs\n",
    "import snowflake.connector"
   ]
  },
  {
   "cell_type": "code",
   "execution_count": null,
   "metadata": {},
   "outputs": [],
   "source": [
    "connection = hsfs.connection()\n",
    "fs = connection.get_feature_store()\n",
    "connector = fs.get_storage_connector(\"sfconnector\")"
   ]
  },
  {
   "cell_type": "code",
   "execution_count": null,
   "metadata": {},
   "outputs": [],
   "source": [
    "sfConnectorOptions = connector.snowflake_connector_options()\n",
    "ctx = snowflake.connector.connect(**sfConnectorOptions)"
   ]
  },
  {
   "cell_type": "code",
   "execution_count": null,
   "metadata": {},
   "outputs": [],
   "source": [
    "import pandas as pd\n",
    "# Query Snowflake Data\n",
    "cs=ctx.cursor()\n",
    "allrows=cs.execute(\"\"\"select CUSTOMER_ID,GENDER,SENIOR_CITIZEN,PARTNER,DEPENDENTS,TENURE,PHONE_SERVICE,\n",
    "                             MULTIPLE_LINES,INTERNET_SERVICE,ONLINE_SECURITY,ONLINE_BACKUP,DEVICE_PROTECTION,\n",
    "                             TECH_SUPPORT,STREAMING_TV,STREAMING_MOVIES,CONTRACT,PAPERLESS_BILLING,  \n",
    "                             PAYMENT_METHOD,MONTHLY_CHARGES,TOTAL_CHARGES,CHURN from CUSTOMER_CHURN \"\"\").fetchall()\n",
    "\n",
    "churn = pd.DataFrame(allrows)\n",
    "churn.columns=['Customer_Id','Gender','Senior_Citizen','Partner','Dependents','Tenure','Phone_Service',\n",
    "               'Multiple_Lines','Internet_Service','Online_Security','Online_Backup','Device_Protection',\n",
    "               'Tech_Support','Streaming_Tv','Streaming_Movies','Contract','Paperless_Billing',\n",
    "               'Payment_Method','Monthly_Charges','Total_Charges', 'Churn']\n",
    "\n",
    "pd.set_option('display.max_columns', 500)     # Make sure we can see all of the columns\n",
    "pd.set_option('display.max_rows', 10)         # Keep the output on one page\n",
    "churn"
   ]
  }
 ]
}